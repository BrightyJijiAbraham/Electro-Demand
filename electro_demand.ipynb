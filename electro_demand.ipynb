{
 "cells": [
  {
   "cell_type": "code",
   "execution_count": 1,
   "id": "4669d272",
   "metadata": {},
   "outputs": [
    {
     "name": "stdout",
     "output_type": "stream",
     "text": [
      "   Predicted_Rainfall_mm  Predicted_Temperature_Celsius Predicted_Weather  \\\n",
      "0             148.250541                      24.401904             Sunny   \n",
      "\n",
      "   Predicted_Energy_Demand_GWh Suggested_Power_Source  \n",
      "0                   771.093994                  Solar  \n"
     ]
    }
   ],
   "source": [
    "import pandas as pd\n",
    "import numpy as np\n",
    "from sklearn.model_selection import train_test_split\n",
    "from sklearn.ensemble import RandomForestClassifier, RandomForestRegressor\n",
    "from sklearn.metrics import accuracy_score, mean_squared_error\n",
    "import xgboost as xgb\n",
    "# Load the dataset\n",
    "data = pd.read_csv(\"kerala_energy_data.csv\")  # Replace with the actual dataset file\n",
    "\n",
    "# Convert the 'Date' column to datetime\n",
    "data['Date'] = pd.to_datetime(data['Date'])\n",
    "\n",
    "# Extract year and month as features\n",
    "data['Year'] = data['Date'].dt.year\n",
    "data['Month'] = data['Date'].dt.month\n",
    "\n",
    "# Define the target variables\n",
    "target_rainfall = 'Rainfall_mm'\n",
    "target_temperature = 'Temperature_Celsius'\n",
    "target_weather = 'Weather'\n",
    "target_energy_demand = 'Energy Demand (GWh)'\n",
    "\n",
    "# Split the dataset into training and test sets\n",
    "train_data = data[data['Year'] < 2024]\n",
    "test_data = data[(data['Year'] == 2024) & (data['Month'] == 1)]\n",
    "\n",
    "# Features for prediction\n",
    "features = ['Year', 'Month', 'Solar Energy (GWh)', 'Hydroelectric Power (GWh)']\n",
    "\n",
    "# Predict Rainfall\n",
    "X = train_data[features]\n",
    "y = train_data[target_rainfall]\n",
    "rf_regressor = RandomForestRegressor(n_estimators=100, random_state=42)\n",
    "rf_regressor.fit(X, y)\n",
    "predicted_rainfall = rf_regressor.predict(test_data[features])\n",
    "\n",
    "# Predict Temperature\n",
    "X = train_data[features]\n",
    "y = train_data[target_temperature]\n",
    "rf_regressor = RandomForestRegressor(n_estimators=100, random_state=42)\n",
    "rf_regressor.fit(X, y)\n",
    "predicted_temperature = rf_regressor.predict(test_data[features])\n",
    "\n",
    "# Predict Weather (Rainy/Sunny)\n",
    "X = train_data[features]\n",
    "y = train_data[target_weather]\n",
    "rf_classifier = RandomForestClassifier(n_estimators=100, random_state=42)\n",
    "rf_classifier.fit(X, y)\n",
    "predicted_weather = rf_classifier.predict(test_data[features])\n",
    "\n",
    "# Predict Energy Demand\n",
    "X = train_data[features]\n",
    "y = train_data[target_energy_demand]\n",
    "xgb_regressor = xgb.XGBRegressor(objective=\"reg:squarederror\", random_state=42)\n",
    "xgb_regressor.fit(X, y)\n",
    "predicted_energy_demand = xgb_regressor.predict(test_data[features])\n",
    "\n",
    "# Suggest Power Generation Source\n",
    "suggested_power_source = ['Solar' if weather == 'Sunny' else 'Hydro' for weather in predicted_weather]\n",
    "\n",
    "# Create a DataFrame for predictions\n",
    "predictions = pd.DataFrame({\n",
    "    'Predicted_Rainfall_mm': predicted_rainfall,\n",
    "    'Predicted_Temperature_Celsius': predicted_temperature,\n",
    "    'Predicted_Weather': predicted_weather,\n",
    "    'Predicted_Energy_Demand_GWh': predicted_energy_demand,\n",
    "    'Suggested_Power_Source': suggested_power_source\n",
    "})\n",
    "\n",
    "# Display the predictions\n",
    "print(predictions)"
   ]
  },
  {
   "cell_type": "code",
   "execution_count": null,
   "id": "4adceb59",
   "metadata": {},
   "outputs": [],
   "source": []
  }
 ],
 "metadata": {
  "kernelspec": {
   "display_name": "Python 3",
   "language": "python",
   "name": "python3"
  },
  "language_info": {
   "codemirror_mode": {
    "name": "ipython",
    "version": 3
   },
   "file_extension": ".py",
   "mimetype": "text/x-python",
   "name": "python",
   "nbconvert_exporter": "python",
   "pygments_lexer": "ipython3",
   "version": "3.8.8"
  }
 },
 "nbformat": 4,
 "nbformat_minor": 5
}
